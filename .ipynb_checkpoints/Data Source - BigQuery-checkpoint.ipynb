{
 "cells": [
  {
   "cell_type": "markdown",
   "id": "2e725d43-8999-4d7a-9968-796be1a0e05d",
   "metadata": {},
   "source": [
    "##### This notebook imports source data for this project into BigQuery. \n",
    "##### The source data is first exported in GCS in CSV format. The BigQuery source table is \"bigquery-public-data.ml_datasets.ulb_fraud_detection\". This is a table of credit card transactions that are classified as fradulant, Class =1 or normal, Class = 0."
   ]
  },
  {
   "cell_type": "markdown",
   "id": "83fc67e6-d965-4fe6-b72f-506db03b5d97",
   "metadata": {
    "tags": []
   },
   "source": [
    "##### This table has 284807 credit card transaction classified as fradulent or normal in the column Class. In order to protect confidentiality the original features have been transformed using PCA(Principal component analysis) into 28 features named V1,V2,....,V28(float). \n",
    "##### Two descriptive features are provided without transformation by PCA.\n",
    "##### Time (integer): is the seconds elapsed between the transaction and the eraliest transaction in the table\n",
    "##### Amount (float): is the value of the transaction."
   ]
  },
  {
   "cell_type": "markdown",
   "id": "f9154a69-0624-4423-8de8-40e68f2e60fb",
   "metadata": {},
   "source": [
    "#### Preparation of Data\n",
    "##### transaction_id (string): a unique id for row/transaction\n",
    "##### splits (string): this divides the transactions into the set of TRAIN(80%), VALIDATE(10%), TEST(10%)"
   ]
  },
  {
   "cell_type": "code",
   "execution_count": 4,
   "id": "77496e11-c27d-423e-bc70-1b094084706c",
   "metadata": {},
   "outputs": [
    {
     "data": {
      "text/plain": [
       "'ml-pipeline-project-401216'"
      ]
     },
     "execution_count": 4,
     "metadata": {},
     "output_type": "execute_result"
    }
   ],
   "source": [
    "# Setup\n",
    "project = !gcloud config get-value project\n",
    "PROJECT_ID = project[0]\n",
    "PROJECT_ID"
   ]
  },
  {
   "cell_type": "code",
   "execution_count": 9,
   "id": "895f6996-9c9b-446c-a05f-21ec759e6c1d",
   "metadata": {},
   "outputs": [],
   "source": [
    "REGION = \"us-central1\"\n",
    "EXPERIMENT = \"01\"\n",
    "SERIES = \"01\"\n",
    "\n",
    "# source data\n",
    "BQ_PROJECT = PROJECT_ID\n",
    "BQ_DATASET = \"fraud\"\n",
    "BQ_TABLE = \"fraud\"\n",
    "\n",
    "# sourcing data from bigquery-public-data.ml_datasets.ulb_fraud_detection\n",
    "BQ_SOURCE = \"bigquery-public-data.ml_datasets.ulb_fraud_detection\""
   ]
  },
  {
   "cell_type": "code",
   "execution_count": 10,
   "id": "26839a6a-905d-4857-8c78-36ed6d6fea0a",
   "metadata": {
    "tags": []
   },
   "outputs": [],
   "source": [
    "# packages and clients:\n",
    "from google.cloud import storage\n",
    "from google.cloud import bigquery\n",
    "\n",
    "gcs = storage.Client(project = PROJECT_ID)\n",
    "bq = bigquery.Client(project = PROJECT_ID)"
   ]
  },
  {
   "cell_type": "code",
   "execution_count": 11,
   "id": "b9a5d447-8110-4b52-8328-82744b771ae4",
   "metadata": {},
   "outputs": [
    {
     "data": {
      "text/plain": [
       "'ml-pipeline-project-401216-bucket1'"
      ]
     },
     "execution_count": 11,
     "metadata": {},
     "output_type": "execute_result"
    }
   ],
   "source": [
    "BUCKET = PROJECT_ID + '-bucket1'\n",
    "BUCKET"
   ]
  },
  {
   "cell_type": "code",
   "execution_count": 12,
   "id": "76281794-e49e-4d2d-aae4-12fdd303eccb",
   "metadata": {},
   "outputs": [
    {
     "data": {
      "text/plain": [
       "'01/01/data/fraud.csv'"
      ]
     },
     "execution_count": 12,
     "metadata": {},
     "output_type": "execute_result"
    }
   ],
   "source": [
    "# Source data in GCS Storage bucket\n",
    "\n",
    "file = \"{}/{}/data/{}.csv\".format(SERIES, EXPERIMENT, BQ_TABLE)\n",
    "file"
   ]
  },
  {
   "cell_type": "code",
   "execution_count": 15,
   "id": "d66e4302-d10c-4737-a832-fbe5f387416a",
   "metadata": {},
   "outputs": [
    {
     "name": "stdout",
     "output_type": "stream",
     "text": [
      "The file is already created at: gs://ml-pipeline-project-401216-bucket1/01/01/data/fraud.csv\n"
     ]
    }
   ],
   "source": [
    "# Exporting the dataset into GCS bucket\n",
    "\n",
    "bucketDef = gcs.bucket(BUCKET)\n",
    "if storage.Blob(bucket = bucketDef, name = file).exists(gcs):\n",
    "    print(\"The file is already created at: gs://{}/{}\".format(bucketDef.name, file))\n",
    "else:\n",
    "    source = bigquery.TableReference.from_string(BQ_SOURCE)\n",
    "    extract = bq.extract_table(source = source, destination_uris = [\"gs://{}/{}\".format(bucketDef.name, file)])\n",
    "    print(\"Creating the export....\")\n",
    "    extract.result()\n",
    "    print(\"Exported the table to gs://{}/{}\".format(bucketDef.name, file))\n",
    "    "
   ]
  },
  {
   "cell_type": "code",
   "execution_count": 16,
   "id": "0f622413-01b4-4fb7-8503-44455652738a",
   "metadata": {},
   "outputs": [
    {
     "data": {
      "text/plain": [
       "[<Blob: ml-pipeline-project-401216-bucket1, 01/01/data/fraud.csv, 1697184037197809>]"
      ]
     },
     "execution_count": 16,
     "metadata": {},
     "output_type": "execute_result"
    }
   ],
   "source": [
    "# list files in the bucket\n",
    "list(bucketDef.list_blobs(prefix = \"{}/{}\".format(SERIES, EXPERIMENT)))"
   ]
  },
  {
   "cell_type": "code",
   "execution_count": 21,
   "id": "cd553d46-0fd2-4048-80e4-a585e94ebad4",
   "metadata": {},
   "outputs": [],
   "source": [
    "# Checking if datasets exists in bigQuery\n",
    "datasets = list(bq.list_datasets())\n",
    "for sets in datasets:\n",
    "    print(sets.dataset_id)"
   ]
  },
  {
   "cell_type": "code",
   "execution_count": 27,
   "id": "83562526-a0b4-422a-a2cb-7db05e498b08",
   "metadata": {},
   "outputs": [],
   "source": [
    "# create dataset if missing\n",
    "\n",
    "ds = bigquery.Dataset(\"{}.{}\".format(BQ_PROJECT ,BQ_DATASET))\n",
    "ds.location = REGION\n",
    "ds.labels = {'experiment' : f'{EXPERIMENT}'}\n",
    "ds = bq.create_dataset(dataset = ds, exists_ok = True)"
   ]
  },
  {
   "cell_type": "code",
   "execution_count": null,
   "id": "42c07e01-f514-45d0-ada4-648819ab4652",
   "metadata": {},
   "outputs": [],
   "source": [
    "# creating table in the dataset\n",
    "\n",
    "from google.cloud.exceptions import NotFound\n",
    "\n",
    "try:\n",
    "    table = bq.get_table(\"{}.{}.{}\".format(BQ_PROJECT, BQ_DATASET, BQ_TABLE))\n",
    "    if table:\n",
    "        print(\"The table already exists: {}.{}.{}\".format(BQ_PROJECT, BQ_DATASET, BQ_TABLE))\n",
    "        \n",
    "except NotFound as error:\n",
    "    print(\"Creating table....\")\n",
    "    destination = bigquery.TableReference.from_string(\"{}.{}.{}\".format(BQ_PROJECT, BQ_DATASET, BQ_TABLE))\n",
    "    \n",
    "    job_config = bigquery.LoadJobConfig(\n",
    "        write_dispostion = \"WRITE_TRUNCATE\",\n",
    "        source_format = bigquery.SourceFormat.CSV\n",
    "        autodetect = True,\n",
    "        labels = {'experiment' : 'f'{EXPERIMENT}'}\n",
    "    )\n",
    "                  \n",
    "    job = bg.load_table_from_uri(f\"gs://{bucketDef.name}/{file}\", destination, job_config = job_config)\n",
    "    job.result()\n",
    "    print(\"Table created successfully: {}.{}.{}\".format(BQ_PROJECT, BQ_DATASET, BQ_TABLE))"
   ]
  }
 ],
 "metadata": {
  "environment": {
   "kernel": "python3",
   "name": "tf2-gpu.2-6.m112",
   "type": "gcloud",
   "uri": "gcr.io/deeplearning-platform-release/tf2-gpu.2-6:m112"
  },
  "kernelspec": {
   "display_name": "Python 3",
   "language": "python",
   "name": "python3"
  },
  "language_info": {
   "codemirror_mode": {
    "name": "ipython",
    "version": 3
   },
   "file_extension": ".py",
   "mimetype": "text/x-python",
   "name": "python",
   "nbconvert_exporter": "python",
   "pygments_lexer": "ipython3",
   "version": "3.9.18"
  }
 },
 "nbformat": 4,
 "nbformat_minor": 5
}
