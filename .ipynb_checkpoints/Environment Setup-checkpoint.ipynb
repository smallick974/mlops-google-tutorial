{
 "cells": [
  {
   "cell_type": "code",
   "execution_count": 1,
   "id": "ac87b7f0-f2a9-4698-9841-cad663cd8fdc",
   "metadata": {},
   "outputs": [
    {
     "data": {
      "text/plain": [
       "'ml-pipeline-project-401216'"
      ]
     },
     "execution_count": 1,
     "metadata": {},
     "output_type": "execute_result"
    }
   ],
   "source": [
    "# get project ID\n",
    "project = !gcloud config get-value project\n",
    "PROJECT_ID = project[0]\n",
    "PROJECT_ID"
   ]
  },
  {
   "cell_type": "code",
   "execution_count": 3,
   "id": "bc94aeeb-02c3-42a0-aede-8d63d931d570",
   "metadata": {},
   "outputs": [
    {
     "data": {
      "text/plain": [
       "'us-central1'"
      ]
     },
     "execution_count": 3,
     "metadata": {},
     "output_type": "execute_result"
    }
   ],
   "source": [
    "# Setting up variable for region\n",
    "REGION = \"us-central1\"\n",
    "REGION"
   ]
  },
  {
   "cell_type": "code",
   "execution_count": 4,
   "id": "00cf2b53-f061-43a5-9566-407f0e656192",
   "metadata": {},
   "outputs": [],
   "source": [
    "# importing required packages\n",
    "from google.cloud import storage\n",
    "from google.cloud import bigquery\n",
    "\n",
    "import pandas as pd\n",
    "from sklearn import datasets"
   ]
  },
  {
   "cell_type": "code",
   "execution_count": 17,
   "id": "e7b0d34e-40c3-47a6-a31e-f69c8cd2ae24",
   "metadata": {},
   "outputs": [
    {
     "data": {
      "text/plain": [
       "'ml-pipeline-project-401216-bucket1'"
      ]
     },
     "execution_count": 17,
     "metadata": {},
     "output_type": "execute_result"
    }
   ],
   "source": [
    "# initializing clients \n",
    "gcs = storage.Client(project = PROJECT_ID)\n",
    "bq = bigquery.Client(project = PROJECT_ID)\n",
    "\n",
    "# creating bucket name\n",
    "BUCKET = PROJECT_ID + '-bucket1'\n",
    "BUCKET"
   ]
  },
  {
   "cell_type": "code",
   "execution_count": 18,
   "id": "9ca9adb8-b76c-4936-b77f-9dff96e5a113",
   "metadata": {},
   "outputs": [
    {
     "name": "stdout",
     "output_type": "stream",
     "text": [
      "Bucket created: ml-pipeline-project-401216-bucket1\n"
     ]
    }
   ],
   "source": [
    "# check if bucket already exists else create the bucket \n",
    "if not gcs.lookup_bucket(BUCKET):\n",
    "    bucketDef = gcs.bucket(BUCKET)\n",
    "    bucket = gcs.create_bucket(bucketDef, project = PROJECT_ID, location = REGION)\n",
    "    print('Bucket created: {}'.format(gcs.lookup_bucket(BUCKET).name))\n",
    "else:\n",
    "    bucketDef = gcs.bucket(BUCKET)\n",
    "    print('Bucket already exists: {}'.format(bucketDef.name))"
   ]
  },
  {
   "cell_type": "code",
   "execution_count": null,
   "id": "ba048b13-171c-4395-8f28-fba0a1fd0c48",
   "metadata": {},
   "outputs": [],
   "source": [
    "# Services and accoung permissions\n",
    "\n"
   ]
  }
 ],
 "metadata": {
  "environment": {
   "kernel": "python3",
   "name": "tf2-gpu.2-6.m112",
   "type": "gcloud",
   "uri": "gcr.io/deeplearning-platform-release/tf2-gpu.2-6:m112"
  },
  "kernelspec": {
   "display_name": "Python 3",
   "language": "python",
   "name": "python3"
  },
  "language_info": {
   "codemirror_mode": {
    "name": "ipython",
    "version": 3
   },
   "file_extension": ".py",
   "mimetype": "text/x-python",
   "name": "python",
   "nbconvert_exporter": "python",
   "pygments_lexer": "ipython3",
   "version": "3.9.18"
  }
 },
 "nbformat": 4,
 "nbformat_minor": 5
}
