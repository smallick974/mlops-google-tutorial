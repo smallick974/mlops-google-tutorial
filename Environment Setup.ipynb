{
 "cells": [
  {
   "cell_type": "code",
   "execution_count": 21,
   "id": "ac87b7f0-f2a9-4698-9841-cad663cd8fdc",
   "metadata": {},
   "outputs": [
    {
     "data": {
      "text/plain": [
       "'ml-pipeline-project-401216'"
      ]
     },
     "execution_count": 21,
     "metadata": {},
     "output_type": "execute_result"
    }
   ],
   "source": [
    "# get project ID\n",
    "\n",
    "project = !gcloud config get-value project\n",
    "PROJECT_ID = project[0]\n",
    "PROJECT_ID"
   ]
  },
  {
   "cell_type": "code",
   "execution_count": 22,
   "id": "bc94aeeb-02c3-42a0-aede-8d63d931d570",
   "metadata": {},
   "outputs": [
    {
     "data": {
      "text/plain": [
       "'us-central1'"
      ]
     },
     "execution_count": 22,
     "metadata": {},
     "output_type": "execute_result"
    }
   ],
   "source": [
    "# Setting up variable for region\n",
    "\n",
    "REGION = \"us-central1\"\n",
    "REGION"
   ]
  },
  {
   "cell_type": "code",
   "execution_count": 23,
   "id": "00cf2b53-f061-43a5-9566-407f0e656192",
   "metadata": {},
   "outputs": [],
   "source": [
    "# importing required packages\n",
    "\n",
    "from google.cloud import storage\n",
    "from google.cloud import bigquery\n",
    "\n",
    "import pandas as pd\n",
    "from sklearn import datasets"
   ]
  },
  {
   "cell_type": "code",
   "execution_count": 24,
   "id": "e7b0d34e-40c3-47a6-a31e-f69c8cd2ae24",
   "metadata": {},
   "outputs": [
    {
     "data": {
      "text/plain": [
       "'ml-pipeline-project-401216-bucket1'"
      ]
     },
     "execution_count": 24,
     "metadata": {},
     "output_type": "execute_result"
    }
   ],
   "source": [
    "# initializing clients \n",
    "\n",
    "gcs = storage.Client(project = PROJECT_ID)\n",
    "bq = bigquery.Client(project = PROJECT_ID)\n",
    "\n",
    "# creating bucket name\n",
    "BUCKET = PROJECT_ID + '-bucket1'\n",
    "BUCKET"
   ]
  },
  {
   "cell_type": "code",
   "execution_count": 25,
   "id": "9ca9adb8-b76c-4936-b77f-9dff96e5a113",
   "metadata": {},
   "outputs": [
    {
     "name": "stdout",
     "output_type": "stream",
     "text": [
      "Bucket already exists: ml-pipeline-project-401216-bucket1\n"
     ]
    }
   ],
   "source": [
    "# check if bucket already exists else create the bucket \n",
    "\n",
    "if not gcs.lookup_bucket(BUCKET):\n",
    "    bucketDef = gcs.bucket(BUCKET)\n",
    "    bucket = gcs.create_bucket(bucketDef, project = PROJECT_ID, location = REGION)\n",
    "    print('Bucket created: {}'.format(gcs.lookup_bucket(BUCKET).name))\n",
    "else:\n",
    "    bucketDef = gcs.bucket(BUCKET)\n",
    "    print('Bucket already exists: {}'.format(bucketDef.name))"
   ]
  },
  {
   "cell_type": "code",
   "execution_count": 26,
   "id": "ba048b13-171c-4395-8f28-fba0a1fd0c48",
   "metadata": {},
   "outputs": [
    {
     "data": {
      "text/plain": [
       "'1181571513-compute@developer.gserviceaccount.com'"
      ]
     },
     "execution_count": 26,
     "metadata": {},
     "output_type": "execute_result"
    }
   ],
   "source": [
    "# Services and accoung permissions\n",
    "\n",
    "SERVICE_ACCOUNT = !gcloud config list --format='value(core.account)'\n",
    "SERVICE_ACCOUNT = SERVICE_ACCOUNT[0]\n",
    "SERVICE_ACCOUNT"
   ]
  },
  {
   "cell_type": "code",
   "execution_count": 27,
   "id": "5e45f243-e11e-4ee4-a357-17e3241870e2",
   "metadata": {},
   "outputs": [],
   "source": [
    "# Enable Cloud resource manager API\n",
    "\n",
    "!gcloud services enable cloudresourcemanager.googleapis.com"
   ]
  },
  {
   "cell_type": "code",
   "execution_count": 28,
   "id": "efff8255-7399-42e1-a4d2-60c61802c22e",
   "metadata": {},
   "outputs": [
    {
     "name": "stdout",
     "output_type": "stream",
     "text": [
      "ROLE\n",
      "['roles/aiplatform.customCodeServiceAgent', 'roles/aiplatform.serviceAgent', 'roles/bigquery.admin', 'roles/cloudbuild.builds.builder', 'roles/cloudbuild.serviceAgent', 'roles/cloudfunctions.serviceAgent', 'roles/composer.serviceAgent', 'roles/compute.serviceAgent', 'roles/container.serviceAgent', 'roles/containerregistry.ServiceAgent', 'roles/dataflow.serviceAgent', 'roles/editor', 'roles/notebooks.serviceAgent', 'roles/owner', 'roles/pubsub.serviceAgent', 'roles/run.admin', 'roles/storage.objectAdmin']\n"
     ]
    }
   ],
   "source": [
    "# Listing the current service account roles:\n",
    "\n",
    "!gcloud projects get-iam-policy $PROJECT_ID --filter=\"bindings.members:$SERVICE_ACCOUNT\" \\\n",
    "    --format='table(bindings.role)'"
   ]
  },
  {
   "cell_type": "code",
   "execution_count": 29,
   "id": "eb06a983-82cd-4598-9286-68cbfbe18818",
   "metadata": {},
   "outputs": [],
   "source": [
    "# install KFP for implementing Kubeflow pipeline as well as google cloud pipeline components\n",
    "\n",
    "!pip install kfp -U -q\n",
    "!pip install google-cloud-pipeline-components -U -q"
   ]
  },
  {
   "cell_type": "markdown",
   "id": "fe65ba4a-a31a-4fc3-8a90-92475f95636c",
   "metadata": {},
   "source": [
    "#### Checking version of different packages"
   ]
  },
  {
   "cell_type": "code",
   "execution_count": 30,
   "id": "6f43f971-f0da-49fe-85a7-20a23b3f42e7",
   "metadata": {},
   "outputs": [
    {
     "data": {
      "text/plain": [
       "'2.3.0'"
      ]
     },
     "execution_count": 30,
     "metadata": {},
     "output_type": "execute_result"
    }
   ],
   "source": [
    "import kfp\n",
    "KFP_version = kfp.__version__\n",
    "KFP_version"
   ]
  },
  {
   "cell_type": "code",
   "execution_count": 31,
   "id": "6626b2af-65ba-4600-9722-dfb5f35234dc",
   "metadata": {},
   "outputs": [
    {
     "data": {
      "text/plain": [
       "'2.4.1'"
      ]
     },
     "execution_count": 31,
     "metadata": {},
     "output_type": "execute_result"
    }
   ],
   "source": [
    "import google_cloud_pipeline_components\n",
    "google_cloud_pipeline_components_version = google_cloud_pipeline_components.__version__\n",
    "google_cloud_pipeline_components_version"
   ]
  },
  {
   "cell_type": "code",
   "execution_count": 32,
   "id": "6dc4e000-66a4-40c0-9248-53a6d7b0712e",
   "metadata": {},
   "outputs": [
    {
     "data": {
      "text/plain": [
       "'1.33.1'"
      ]
     },
     "execution_count": 32,
     "metadata": {},
     "output_type": "execute_result"
    }
   ],
   "source": [
    "from google.cloud import aiplatform\n",
    "aiplatform.__version__"
   ]
  },
  {
   "cell_type": "code",
   "execution_count": null,
   "id": "e382db46-ab20-4c7d-be5d-88401efe256d",
   "metadata": {},
   "outputs": [],
   "source": []
  }
 ],
 "metadata": {
  "environment": {
   "kernel": "python3",
   "name": "tf2-gpu.2-6.m112",
   "type": "gcloud",
   "uri": "gcr.io/deeplearning-platform-release/tf2-gpu.2-6:m112"
  },
  "kernelspec": {
   "display_name": "Python 3",
   "language": "python",
   "name": "python3"
  },
  "language_info": {
   "codemirror_mode": {
    "name": "ipython",
    "version": 3
   },
   "file_extension": ".py",
   "mimetype": "text/x-python",
   "name": "python",
   "nbconvert_exporter": "python",
   "pygments_lexer": "ipython3",
   "version": "3.9.18"
  }
 },
 "nbformat": 4,
 "nbformat_minor": 5
}
