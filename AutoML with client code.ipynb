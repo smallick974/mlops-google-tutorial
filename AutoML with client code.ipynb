{
 "cells": [
  {
   "cell_type": "code",
   "execution_count": 1,
   "id": "e48523ac-c638-451c-9df7-117f6b5ded9a",
   "metadata": {},
   "outputs": [
    {
     "data": {
      "text/plain": [
       "'ml-pipeline-project-401216'"
      ]
     },
     "execution_count": 1,
     "metadata": {},
     "output_type": "execute_result"
    }
   ],
   "source": [
    "project = !gcloud config get-value project\n",
    "PROJECT_ID = project[0]\n",
    "PROJECT_ID"
   ]
  },
  {
   "cell_type": "code",
   "execution_count": null,
   "id": "ed56efb4-3407-41c9-94f7-f10110e84e85",
   "metadata": {},
   "outputs": [],
   "source": [
    "REGION = 'us-central1'\n",
    "DATANAME = 'fraud'\n",
    "NOTEBOOK = 'automl_with_client_code'\n",
    "\n",
    "# resources\n",
    "DEPLOY_COMPUTE = 'n1-highmem-4'\n",
    "\n",
    "# model training\n",
    "VAR_TARGET = 'Class'\n",
    "VAR_OMIT = 'transaction_id' #can add more variables to the string with space delimiters"
   ]
  },
  {
   "cell_type": "code",
   "execution_count": 8,
   "id": "7c42d433-b594-4dbc-a30d-51f2390a31fb",
   "metadata": {},
   "outputs": [],
   "source": [
    "# packages\n",
    "\n",
    "from google.cloud import aiplatform\n",
    "from datetime import datetime\n",
    "\n",
    "from google.cloud import bigquery\n",
    "from google.protobuf import json_format\n",
    "from google.protobuf.struct_pb2 import Value\n",
    "import json\n",
    "import numpy as np"
   ]
  },
  {
   "cell_type": "code",
   "execution_count": 10,
   "id": "a2878302-a369-4266-b2a5-a6062e302e1f",
   "metadata": {},
   "outputs": [],
   "source": [
    "# clients\n",
    "aiplatform.init(project = PROJECT_ID, location=REGION)\n",
    "bigquery = bigquery.Client()"
   ]
  },
  {
   "cell_type": "code",
   "execution_count": 13,
   "id": "56551bf1-6dd3-4d1e-aca4-a3cb1ec0dee5",
   "metadata": {},
   "outputs": [
    {
     "data": {
      "text/plain": [
       "'20231016131756'"
      ]
     },
     "execution_count": 13,
     "metadata": {},
     "output_type": "execute_result"
    }
   ],
   "source": [
    "# parameters\n",
    "TIMESTAMP = datetime.now().strftime(\"%Y%m%d%H%M%S\")\n",
    "DIR = f\"temp/{NOTEBOOK}\"\n",
    "TIMESTAMP"
   ]
  },
  {
   "cell_type": "code",
   "execution_count": 15,
   "id": "270a9b02-8cba-43b7-a4fd-1a6afb81f6e0",
   "metadata": {},
   "outputs": [],
   "source": [
    "# environment\n",
    "!rm -rf {DIR}\n",
    "!mkdir -p {DIR}"
   ]
  },
  {
   "cell_type": "code",
   "execution_count": 44,
   "id": "23d169b8-1261-4b2b-9602-6b519eb9a6d3",
   "metadata": {},
   "outputs": [
    {
     "name": "stdout",
     "output_type": "stream",
     "text": [
      "Creating TabularDataset\n",
      "Create TabularDataset backing LRO: projects/1181571513/locations/us-central1/datasets/5593058420333740032/operations/6212980049784602624\n",
      "TabularDataset created. Resource name: projects/1181571513/locations/us-central1/datasets/5593058420333740032\n",
      "To use this TabularDataset in another session:\n",
      "ds = aiplatform.TabularDataset('projects/1181571513/locations/us-central1/datasets/5593058420333740032')\n"
     ]
    }
   ],
   "source": [
    "# create dataset (link to BigQuery table)\n",
    "dataset = aiplatform.TabularDataset.create(\n",
    "    display_name = f'{NOTEBOOK}_{DATANAME}_{TIMESTAMP}',\n",
    "    bq_source = f'bq://{PROJECT_ID}.{DATANAME}.{DATANAME}_prepped',\n",
    "    labels = {'notebook' : f'{NOTEBOOK}'}\n",
    ")"
   ]
  },
  {
   "cell_type": "code",
   "execution_count": 45,
   "id": "c3fb807d-f225-44cc-aa4b-3c0b3a1a1b2c",
   "metadata": {},
   "outputs": [
    {
     "data": {
      "text/plain": [
       "['V21',\n",
       " 'V10',\n",
       " 'V2',\n",
       " 'V17',\n",
       " 'V11',\n",
       " 'V18',\n",
       " 'V12',\n",
       " 'V25',\n",
       " 'V5',\n",
       " 'V9',\n",
       " 'Time',\n",
       " 'V26',\n",
       " 'V23',\n",
       " 'V15',\n",
       " 'V19',\n",
       " 'V13',\n",
       " 'V4',\n",
       " 'transaction_id',\n",
       " 'V7',\n",
       " 'V22',\n",
       " 'V6',\n",
       " 'V20',\n",
       " 'V27',\n",
       " 'V16',\n",
       " 'splits',\n",
       " 'V8',\n",
       " 'V28',\n",
       " 'V3',\n",
       " 'V24',\n",
       " 'Class',\n",
       " 'V1',\n",
       " 'V14',\n",
       " 'Amount']"
      ]
     },
     "execution_count": 45,
     "metadata": {},
     "output_type": "execute_result"
    }
   ],
   "source": [
    "dataset.column_names"
   ]
  },
  {
   "cell_type": "code",
   "execution_count": 46,
   "id": "4514d7c6-8324-4e6c-8fa0-a75690ca5c5c",
   "metadata": {},
   "outputs": [],
   "source": [
    "# train model with AutoML\n",
    "\n",
    "column_specs = list(set(dataset.column_names) - set(VAR_OMIT.split()) - set([VAR_TARGET, 'splits']))\n"
   ]
  },
  {
   "cell_type": "code",
   "execution_count": 47,
   "id": "83e22f45-5737-4b35-b859-9d7b77dd8421",
   "metadata": {},
   "outputs": [
    {
     "data": {
      "text/plain": [
       "{'V21': 'auto',\n",
       " 'V10': 'auto',\n",
       " 'V2': 'auto',\n",
       " 'V17': 'auto',\n",
       " 'V11': 'auto',\n",
       " 'V18': 'auto',\n",
       " 'V12': 'auto',\n",
       " 'V25': 'auto',\n",
       " 'V5': 'auto',\n",
       " 'V9': 'auto',\n",
       " 'Time': 'auto',\n",
       " 'V26': 'auto',\n",
       " 'V23': 'auto',\n",
       " 'V15': 'auto',\n",
       " 'V19': 'auto',\n",
       " 'V4': 'auto',\n",
       " 'V13': 'auto',\n",
       " 'V7': 'auto',\n",
       " 'V22': 'auto',\n",
       " 'V6': 'auto',\n",
       " 'V20': 'auto',\n",
       " 'V27': 'auto',\n",
       " 'V16': 'auto',\n",
       " 'V8': 'auto',\n",
       " 'V28': 'auto',\n",
       " 'V3': 'auto',\n",
       " 'V24': 'auto',\n",
       " 'V1': 'auto',\n",
       " 'V14': 'auto',\n",
       " 'Amount': 'auto'}"
      ]
     },
     "execution_count": 47,
     "metadata": {},
     "output_type": "execute_result"
    }
   ],
   "source": [
    "column_specs = dict.fromkeys(column_specs, 'auto')\n",
    "column_specs"
   ]
  },
  {
   "cell_type": "code",
   "execution_count": 50,
   "id": "89478606-30e1-45af-8a8d-19af521ae8ae",
   "metadata": {},
   "outputs": [],
   "source": [
    "# creating training job and training the model using AutoML"
   ]
  },
  {
   "cell_type": "markdown",
   "id": "698cec57-2790-4adb-9f4c-554d0567c984",
   "metadata": {},
   "source": [
    "###### Define a Job:\n",
    "###### a. Consider Weighting\n",
    "###### b. Model type\n",
    "###### c. Optimization objective"
   ]
  },
  {
   "cell_type": "code",
   "execution_count": 48,
   "id": "e08d8952-d991-4eb6-bd6c-c5f76cea85ee",
   "metadata": {},
   "outputs": [],
   "source": [
    "tabular_classification_job = aiplatform.AutoMLTabularTrainingJob(\n",
    "    display_name = f'{NOTEBOOK}_{DATANAME}_{TIMESTAMP}',\n",
    "    optimization_prediction_type = 'classification',\n",
    "    optimization_objective = 'maximize-au-prc',\n",
    "    column_specs = column_specs,\n",
    "    labels = {'notebook' : f'{NOTEBOOK}'}  \n",
    ")"
   ]
  },
  {
   "cell_type": "code",
   "execution_count": 49,
   "id": "738d4ad8-e208-4559-beab-700cc4edbda6",
   "metadata": {},
   "outputs": [
    {
     "name": "stdout",
     "output_type": "stream",
     "text": [
      "View Training:\n",
      "https://console.cloud.google.com/ai/platform/locations/us-central1/training/6921408998017073152?project=1181571513\n",
      "AutoMLTabularTrainingJob projects/1181571513/locations/us-central1/trainingPipelines/6921408998017073152 current state:\n",
      "PipelineState.PIPELINE_STATE_PENDING\n",
      "AutoMLTabularTrainingJob projects/1181571513/locations/us-central1/trainingPipelines/6921408998017073152 current state:\n",
      "PipelineState.PIPELINE_STATE_PENDING\n",
      "AutoMLTabularTrainingJob projects/1181571513/locations/us-central1/trainingPipelines/6921408998017073152 current state:\n",
      "PipelineState.PIPELINE_STATE_PENDING\n",
      "AutoMLTabularTrainingJob projects/1181571513/locations/us-central1/trainingPipelines/6921408998017073152 current state:\n",
      "PipelineState.PIPELINE_STATE_PENDING\n",
      "AutoMLTabularTrainingJob projects/1181571513/locations/us-central1/trainingPipelines/6921408998017073152 current state:\n",
      "PipelineState.PIPELINE_STATE_PENDING\n",
      "AutoMLTabularTrainingJob projects/1181571513/locations/us-central1/trainingPipelines/6921408998017073152 current state:\n",
      "PipelineState.PIPELINE_STATE_RUNNING\n",
      "AutoMLTabularTrainingJob projects/1181571513/locations/us-central1/trainingPipelines/6921408998017073152 current state:\n",
      "PipelineState.PIPELINE_STATE_RUNNING\n",
      "AutoMLTabularTrainingJob projects/1181571513/locations/us-central1/trainingPipelines/6921408998017073152 current state:\n",
      "PipelineState.PIPELINE_STATE_RUNNING\n",
      "AutoMLTabularTrainingJob projects/1181571513/locations/us-central1/trainingPipelines/6921408998017073152 current state:\n",
      "PipelineState.PIPELINE_STATE_RUNNING\n",
      "AutoMLTabularTrainingJob projects/1181571513/locations/us-central1/trainingPipelines/6921408998017073152 current state:\n",
      "PipelineState.PIPELINE_STATE_RUNNING\n",
      "AutoMLTabularTrainingJob projects/1181571513/locations/us-central1/trainingPipelines/6921408998017073152 current state:\n",
      "PipelineState.PIPELINE_STATE_RUNNING\n",
      "AutoMLTabularTrainingJob projects/1181571513/locations/us-central1/trainingPipelines/6921408998017073152 current state:\n",
      "PipelineState.PIPELINE_STATE_RUNNING\n",
      "AutoMLTabularTrainingJob projects/1181571513/locations/us-central1/trainingPipelines/6921408998017073152 current state:\n",
      "PipelineState.PIPELINE_STATE_RUNNING\n",
      "AutoMLTabularTrainingJob projects/1181571513/locations/us-central1/trainingPipelines/6921408998017073152 current state:\n",
      "PipelineState.PIPELINE_STATE_RUNNING\n",
      "AutoMLTabularTrainingJob projects/1181571513/locations/us-central1/trainingPipelines/6921408998017073152 current state:\n",
      "PipelineState.PIPELINE_STATE_RUNNING\n",
      "AutoMLTabularTrainingJob projects/1181571513/locations/us-central1/trainingPipelines/6921408998017073152 current state:\n",
      "PipelineState.PIPELINE_STATE_RUNNING\n",
      "AutoMLTabularTrainingJob projects/1181571513/locations/us-central1/trainingPipelines/6921408998017073152 current state:\n",
      "PipelineState.PIPELINE_STATE_RUNNING\n",
      "AutoMLTabularTrainingJob projects/1181571513/locations/us-central1/trainingPipelines/6921408998017073152 current state:\n",
      "PipelineState.PIPELINE_STATE_RUNNING\n",
      "AutoMLTabularTrainingJob projects/1181571513/locations/us-central1/trainingPipelines/6921408998017073152 current state:\n",
      "PipelineState.PIPELINE_STATE_RUNNING\n",
      "AutoMLTabularTrainingJob projects/1181571513/locations/us-central1/trainingPipelines/6921408998017073152 current state:\n",
      "PipelineState.PIPELINE_STATE_RUNNING\n",
      "AutoMLTabularTrainingJob projects/1181571513/locations/us-central1/trainingPipelines/6921408998017073152 current state:\n",
      "PipelineState.PIPELINE_STATE_RUNNING\n",
      "AutoMLTabularTrainingJob projects/1181571513/locations/us-central1/trainingPipelines/6921408998017073152 current state:\n",
      "PipelineState.PIPELINE_STATE_RUNNING\n",
      "AutoMLTabularTrainingJob projects/1181571513/locations/us-central1/trainingPipelines/6921408998017073152 current state:\n",
      "PipelineState.PIPELINE_STATE_RUNNING\n",
      "AutoMLTabularTrainingJob projects/1181571513/locations/us-central1/trainingPipelines/6921408998017073152 current state:\n",
      "PipelineState.PIPELINE_STATE_RUNNING\n",
      "AutoMLTabularTrainingJob projects/1181571513/locations/us-central1/trainingPipelines/6921408998017073152 current state:\n",
      "PipelineState.PIPELINE_STATE_RUNNING\n",
      "AutoMLTabularTrainingJob projects/1181571513/locations/us-central1/trainingPipelines/6921408998017073152 current state:\n",
      "PipelineState.PIPELINE_STATE_RUNNING\n",
      "AutoMLTabularTrainingJob projects/1181571513/locations/us-central1/trainingPipelines/6921408998017073152 current state:\n",
      "PipelineState.PIPELINE_STATE_RUNNING\n",
      "AutoMLTabularTrainingJob projects/1181571513/locations/us-central1/trainingPipelines/6921408998017073152 current state:\n",
      "PipelineState.PIPELINE_STATE_RUNNING\n",
      "AutoMLTabularTrainingJob projects/1181571513/locations/us-central1/trainingPipelines/6921408998017073152 current state:\n",
      "PipelineState.PIPELINE_STATE_RUNNING\n",
      "AutoMLTabularTrainingJob projects/1181571513/locations/us-central1/trainingPipelines/6921408998017073152 current state:\n",
      "PipelineState.PIPELINE_STATE_RUNNING\n",
      "AutoMLTabularTrainingJob run completed. Resource name: projects/1181571513/locations/us-central1/trainingPipelines/6921408998017073152\n",
      "Model available at projects/1181571513/locations/us-central1/models/2652292526056144896\n"
     ]
    }
   ],
   "source": [
    "model = tabular_classification_job.run(\n",
    "    dataset = dataset,\n",
    "    target_column = VAR_TARGET,\n",
    "    predefined_split_column_name = 'splits',\n",
    "    budget_milli_node_hours = 1000,\n",
    "    model_display_name = f'{NOTEBOOK}_{DATANAME}_{TIMESTAMP}',\n",
    "    disable_early_stopping = False,\n",
    "    model_labels = {'notebook' : f'{NOTEBOOK}'}\n",
    ")"
   ]
  },
  {
   "cell_type": "code",
   "execution_count": 54,
   "id": "45674caf-a03d-45d5-b752-db239ec86894",
   "metadata": {},
   "outputs": [
    {
     "data": {
      "text/plain": [
       "<google.cloud.aiplatform_v1.services.model_service.client.ModelServiceClient at 0x7f3f4198da00>"
      ]
     },
     "execution_count": 54,
     "metadata": {},
     "output_type": "execute_result"
    }
   ],
   "source": [
    "# creating model client for this model\n",
    "\n",
    "model.resource_name\n",
    "\n",
    "model_client = aiplatform.gapic.ModelServiceClient(\n",
    "    client_options = {\n",
    "        'api_endpoint' : f'{REGION}-aiplatform.googleapis.com'\n",
    "    }\n",
    ")\n",
    "\n",
    "model_client"
   ]
  },
  {
   "cell_type": "code",
   "execution_count": 61,
   "id": "09fd1fc9-cd9f-4b51-88f4-5e857b6bc1d9",
   "metadata": {},
   "outputs": [
    {
     "data": {
      "text/plain": [
       "0.99967927"
      ]
     },
     "execution_count": 61,
     "metadata": {},
     "output_type": "execute_result"
    }
   ],
   "source": [
    "# retrieving the aggregate model evaluation matrics. First using .list_model_evaluations to retrieve\n",
    "# the evaluation id and then using .get_model_evaluation for the evaluation id\n",
    "\n",
    "evaluations = model_client.list_model_evaluations(parent = model.resource_name)\n",
    "evals = iter(evaluations)\n",
    "evals_id = next(evals).name\n",
    "geteval = model_client.get_model_evaluation(name = evals_id)\n",
    "\n",
    "geteval.metrics['auPrc']"
   ]
  },
  {
   "cell_type": "code",
   "execution_count": 63,
   "id": "6159d182-3b26-4546-873a-d03a12b94ada",
   "metadata": {},
   "outputs": [
    {
     "name": "stdout",
     "output_type": "stream",
     "text": [
      "True Label =  0  has predicted labels =  [28678.0, 1.0]\n",
      "True Label =  1  has predicted labels =  [10.0, 37.0]\n"
     ]
    }
   ],
   "source": [
    "for i in range(len(geteval.metrics['confusionMatrix']['annotationSpecs'])):\n",
    "    print('True Label = ', geteval.metrics['confusionMatrix']['annotationSpecs'][i]['displayName'], \\\n",
    "         ' has predicted labels = ', geteval.metrics['confusionMatrix']['rows'][i])"
   ]
  },
  {
   "cell_type": "code",
   "execution_count": 66,
   "id": "6ab6362d-d823-4625-9bcc-3a1ddf507b52",
   "metadata": {},
   "outputs": [],
   "source": [
    "slices = model_client.list_model_evaluation_slices(parent = evals_id)"
   ]
  },
  {
   "cell_type": "code",
   "execution_count": 68,
   "id": "0d8935fa-97bc-42fc-abf5-726674a277b9",
   "metadata": {},
   "outputs": [
    {
     "name": "stdout",
     "output_type": "stream",
     "text": [
      "Label =  0 has auPrc =  0.99975467\n",
      "Label =  1 has auPrc =  0.83377564\n"
     ]
    }
   ],
   "source": [
    "for slice in slices:\n",
    "    print('Label = ', slice.slice_.value, 'has auPrc = ', slice.metrics['auPrc'])"
   ]
  },
  {
   "cell_type": "code",
   "execution_count": 69,
   "id": "7dbe0288-bbc0-4283-afd5-e222a472712f",
   "metadata": {},
   "outputs": [
    {
     "name": "stdout",
     "output_type": "stream",
     "text": [
      "Creating Endpoint\n",
      "Create Endpoint backing LRO: projects/1181571513/locations/us-central1/endpoints/4060085224027979776/operations/128898428183773184\n",
      "Endpoint created. Resource name: projects/1181571513/locations/us-central1/endpoints/4060085224027979776\n",
      "To use this Endpoint in another session:\n",
      "endpoint = aiplatform.Endpoint('projects/1181571513/locations/us-central1/endpoints/4060085224027979776')\n"
     ]
    }
   ],
   "source": [
    "# Endpoint and deployment\n",
    "\n",
    "endpoint = aiplatform.Endpoint.create(\n",
    "    display_name = f'{NOTEBOOK}_{DATANAME}_{TIMESTAMP}',\n",
    "    labels = {'notebook' : f'{NOTEBOOK}'}\n",
    ")"
   ]
  },
  {
   "cell_type": "code",
   "execution_count": null,
   "id": "f7d672ae-b1c6-4e89-8196-439d38dc0105",
   "metadata": {},
   "outputs": [
    {
     "name": "stdout",
     "output_type": "stream",
     "text": [
      "Deploying Model projects/1181571513/locations/us-central1/models/2652292526056144896 to Endpoint : projects/1181571513/locations/us-central1/endpoints/4060085224027979776\n",
      "Deploy Endpoint model backing LRO: projects/1181571513/locations/us-central1/endpoints/4060085224027979776/operations/5145908413074505728\n"
     ]
    }
   ],
   "source": [
    "endpoint.deploy(\n",
    "    model = model,\n",
    "    deployed_model_display_name = f'{NOTEBOOK}_{DATANAME}_{TIMESTAMP}',\n",
    "    traffic_percentage = 100,\n",
    "    machine_type = 'n1-highmem-4',\n",
    "    min_replica_count = 1,\n",
    "    max_replica_count = 1\n",
    ")"
   ]
  },
  {
   "cell_type": "code",
   "execution_count": null,
   "id": "007243ad-7293-474a-a480-556ddac124e6",
   "metadata": {},
   "outputs": [],
   "source": []
  }
 ],
 "metadata": {
  "environment": {
   "kernel": "python3",
   "name": "tf2-gpu.2-6.m112",
   "type": "gcloud",
   "uri": "gcr.io/deeplearning-platform-release/tf2-gpu.2-6:m112"
  },
  "kernelspec": {
   "display_name": "Python 3",
   "language": "python",
   "name": "python3"
  },
  "language_info": {
   "codemirror_mode": {
    "name": "ipython",
    "version": 3
   },
   "file_extension": ".py",
   "mimetype": "text/x-python",
   "name": "python",
   "nbconvert_exporter": "python",
   "pygments_lexer": "ipython3",
   "version": "3.9.18"
  }
 },
 "nbformat": 4,
 "nbformat_minor": 5
}
