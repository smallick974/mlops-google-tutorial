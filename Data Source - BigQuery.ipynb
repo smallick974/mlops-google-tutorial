{
 "cells": [
  {
   "cell_type": "markdown",
   "id": "2e725d43-8999-4d7a-9968-796be1a0e05d",
   "metadata": {},
   "source": [
    "##### This notebook imports source data for this project into BigQuery. \n",
    "##### The source data is first exported in GCS in CSV format. The BigQuery source table is \"bigquery-public-data.ml_datasets.ulb_fraud_detection\". This is a table of credit card transactions that are classified as fradulant, Class =1 or normal, Class = 0."
   ]
  },
  {
   "cell_type": "markdown",
   "id": "83fc67e6-d965-4fe6-b72f-506db03b5d97",
   "metadata": {
    "tags": []
   },
   "source": [
    "##### This table has 284807 credit card transaction classified as fradulent or normal in the column Class. In order to protect confidentiality the original features have been transformed using PCA(Principal component analysis) into 28 features named V1,V2,....,V28(float). \n",
    "##### Two descriptive features are provided without transformation by PCA.\n",
    "##### Time (integer): is the seconds elapsed between the transaction and the eraliest transaction in the table\n",
    "##### Amount (float): is the value of the transaction."
   ]
  },
  {
   "cell_type": "markdown",
   "id": "f9154a69-0624-4423-8de8-40e68f2e60fb",
   "metadata": {},
   "source": [
    "#### Preparation of Data\n",
    "##### transaction_id (string): a unique id for row/transaction\n",
    "##### splits (string): this divides the transactions into the set of TRAIN(80%), VALIDATE(10%), TEST(10%)"
   ]
  },
  {
   "cell_type": "code",
   "execution_count": 4,
   "id": "77496e11-c27d-423e-bc70-1b094084706c",
   "metadata": {},
   "outputs": [
    {
     "data": {
      "text/plain": [
       "'ml-pipeline-project-401216'"
      ]
     },
     "execution_count": 4,
     "metadata": {},
     "output_type": "execute_result"
    }
   ],
   "source": [
    "# Setup\n",
    "project = !gcloud config get-value project\n",
    "PROJECT_ID = project[0]\n",
    "PROJECT_ID"
   ]
  },
  {
   "cell_type": "code",
   "execution_count": 9,
   "id": "895f6996-9c9b-446c-a05f-21ec759e6c1d",
   "metadata": {},
   "outputs": [],
   "source": [
    "REGION = \"us-central1\"\n",
    "EXPERIMENT = \"01\"\n",
    "SERIES = \"01\"\n",
    "\n",
    "# source data\n",
    "BQ_PROJECT = PROJECT_ID\n",
    "BQ_DATASET = \"fraud\"\n",
    "BQ_TABLE = \"fraud\"\n",
    "\n",
    "# sourcing data from bigquery-public-data.ml_datasets.ulb_fraud_detection\n",
    "BQ_SOURCE = \"bigquery-public-data.ml_datasets.ulb_fraud_detection\""
   ]
  },
  {
   "cell_type": "code",
   "execution_count": 10,
   "id": "26839a6a-905d-4857-8c78-36ed6d6fea0a",
   "metadata": {
    "tags": []
   },
   "outputs": [],
   "source": [
    "# packages and clients:\n",
    "from google.cloud import storage\n",
    "from google.cloud import bigquery\n",
    "\n",
    "gcs = storage.Client(project = PROJECT_ID)\n",
    "bq = bigquery.Client(project = PROJECT_ID)"
   ]
  },
  {
   "cell_type": "code",
   "execution_count": 11,
   "id": "b9a5d447-8110-4b52-8328-82744b771ae4",
   "metadata": {},
   "outputs": [
    {
     "data": {
      "text/plain": [
       "'ml-pipeline-project-401216-bucket1'"
      ]
     },
     "execution_count": 11,
     "metadata": {},
     "output_type": "execute_result"
    }
   ],
   "source": [
    "BUCKET = PROJECT_ID + '-bucket1'\n",
    "BUCKET"
   ]
  },
  {
   "cell_type": "code",
   "execution_count": 12,
   "id": "76281794-e49e-4d2d-aae4-12fdd303eccb",
   "metadata": {},
   "outputs": [
    {
     "data": {
      "text/plain": [
       "'01/01/data/fraud.csv'"
      ]
     },
     "execution_count": 12,
     "metadata": {},
     "output_type": "execute_result"
    }
   ],
   "source": [
    "# Source data in GCS Storage bucket\n",
    "\n",
    "file = \"{}/{}/data/{}.csv\".format(SERIES, EXPERIMENT, BQ_TABLE)\n",
    "file"
   ]
  },
  {
   "cell_type": "code",
   "execution_count": 15,
   "id": "d66e4302-d10c-4737-a832-fbe5f387416a",
   "metadata": {},
   "outputs": [
    {
     "name": "stdout",
     "output_type": "stream",
     "text": [
      "The file is already created at: gs://ml-pipeline-project-401216-bucket1/01/01/data/fraud.csv\n"
     ]
    }
   ],
   "source": [
    "# Exporting the dataset into GCS bucket\n",
    "\n",
    "bucketDef = gcs.bucket(BUCKET)\n",
    "if storage.Blob(bucket = bucketDef, name = file).exists(gcs):\n",
    "    print(\"The file is already created at: gs://{}/{}\".format(bucketDef.name, file))\n",
    "else:\n",
    "    source = bigquery.TableReference.from_string(BQ_SOURCE)\n",
    "    extract = bq.extract_table(source = source, destination_uris = [\"gs://{}/{}\".format(bucketDef.name, file)])\n",
    "    print(\"Creating the export....\")\n",
    "    extract.result()\n",
    "    print(\"Exported the table to gs://{}/{}\".format(bucketDef.name, file))\n",
    "    "
   ]
  },
  {
   "cell_type": "code",
   "execution_count": 16,
   "id": "0f622413-01b4-4fb7-8503-44455652738a",
   "metadata": {},
   "outputs": [
    {
     "data": {
      "text/plain": [
       "[<Blob: ml-pipeline-project-401216-bucket1, 01/01/data/fraud.csv, 1697184037197809>]"
      ]
     },
     "execution_count": 16,
     "metadata": {},
     "output_type": "execute_result"
    }
   ],
   "source": [
    "# list files in the bucket\n",
    "list(bucketDef.list_blobs(prefix = \"{}/{}\".format(SERIES, EXPERIMENT)))"
   ]
  },
  {
   "cell_type": "code",
   "execution_count": 52,
   "id": "cd553d46-0fd2-4048-80e4-a585e94ebad4",
   "metadata": {},
   "outputs": [
    {
     "name": "stdout",
     "output_type": "stream",
     "text": [
      "fraud\n"
     ]
    }
   ],
   "source": [
    "# Checking if datasets exists in bigQuery\n",
    "datasets = list(bq.list_datasets())\n",
    "for sets in datasets:\n",
    "    print(sets.dataset_id)"
   ]
  },
  {
   "cell_type": "code",
   "execution_count": 54,
   "id": "83562526-a0b4-422a-a2cb-7db05e498b08",
   "metadata": {},
   "outputs": [],
   "source": [
    "# create dataset if missing\n",
    "\n",
    "ds = bigquery.Dataset(\"{}.{}\".format(BQ_PROJECT ,BQ_DATASET))\n",
    "ds.location = REGION\n",
    "ds.labels = {'experiment' : f'{EXPERIMENT}'}\n",
    "ds = bq.create_dataset(dataset = ds, exists_ok = True)"
   ]
  },
  {
   "cell_type": "code",
   "execution_count": 76,
   "id": "42c07e01-f514-45d0-ada4-648819ab4652",
   "metadata": {},
   "outputs": [
    {
     "name": "stdout",
     "output_type": "stream",
     "text": [
      "Creating table....\n",
      "Table created successfully: ml-pipeline-project-401216.fraud.fraud\n"
     ]
    }
   ],
   "source": [
    "# creating table in the dataset\n",
    "\n",
    "from google.cloud.exceptions import NotFound\n",
    "\n",
    "try:\n",
    "    table = bq.get_table(f'{BQ_PROJECT}.{BQ_DATASET}.{BQ_TABLE}')\n",
    "    if table:\n",
    "        print(f'The table already exists: {BQ_PROJECT}.{BQ_DATASET}.{BQ_TABLE}')\n",
    "    \n",
    "except NotFound as error:\n",
    "    print(\"Creating table....\")\n",
    "    destination = bigquery.TableReference.from_string(\"{}.{}.{}\".format(BQ_PROJECT, BQ_DATASET, BQ_TABLE))\n",
    "    \n",
    "    job_config = bigquery.LoadJobConfig(\n",
    "        write_disposition = 'WRITE_TRUNCATE',\n",
    "        source_format = bigquery.SourceFormat.CSV,\n",
    "        autodetect = True,\n",
    "        labels = {'experiment' : f'{EXPERIMENT}'}\n",
    "    )\n",
    "        \n",
    "    job = bq.load_table_from_uri(f\"gs://{bucketDef.name}/{file}\", destination, job_config = job_config)\n",
    "    job.result()\n",
    "    print(\"Table created successfully: {}.{}.{}\".format(BQ_PROJECT, BQ_DATASET, BQ_TABLE))\n",
    "    "
   ]
  },
  {
   "cell_type": "code",
   "execution_count": 79,
   "id": "b07d2d11-bb1c-4ff0-9433-a7e9cb955dff",
   "metadata": {},
   "outputs": [
    {
     "data": {
      "text/html": [
       "<div>\n",
       "<style scoped>\n",
       "    .dataframe tbody tr th:only-of-type {\n",
       "        vertical-align: middle;\n",
       "    }\n",
       "\n",
       "    .dataframe tbody tr th {\n",
       "        vertical-align: top;\n",
       "    }\n",
       "\n",
       "    .dataframe thead th {\n",
       "        text-align: right;\n",
       "    }\n",
       "</style>\n",
       "<table border=\"1\" class=\"dataframe\">\n",
       "  <thead>\n",
       "    <tr style=\"text-align: right;\">\n",
       "      <th></th>\n",
       "      <th>Time</th>\n",
       "      <th>V1</th>\n",
       "      <th>V2</th>\n",
       "      <th>V3</th>\n",
       "      <th>V4</th>\n",
       "      <th>V5</th>\n",
       "      <th>V6</th>\n",
       "      <th>V7</th>\n",
       "      <th>V8</th>\n",
       "      <th>V9</th>\n",
       "      <th>...</th>\n",
       "      <th>V21</th>\n",
       "      <th>V22</th>\n",
       "      <th>V23</th>\n",
       "      <th>V24</th>\n",
       "      <th>V25</th>\n",
       "      <th>V26</th>\n",
       "      <th>V27</th>\n",
       "      <th>V28</th>\n",
       "      <th>Amount</th>\n",
       "      <th>Class</th>\n",
       "    </tr>\n",
       "  </thead>\n",
       "  <tbody>\n",
       "    <tr>\n",
       "      <th>0</th>\n",
       "      <td>152770</td>\n",
       "      <td>2.147860</td>\n",
       "      <td>0.168196</td>\n",
       "      <td>-1.815561</td>\n",
       "      <td>0.074078</td>\n",
       "      <td>0.759384</td>\n",
       "      <td>-0.777666</td>\n",
       "      <td>0.500592</td>\n",
       "      <td>-0.421479</td>\n",
       "      <td>0.311255</td>\n",
       "      <td>...</td>\n",
       "      <td>-0.186421</td>\n",
       "      <td>-0.364685</td>\n",
       "      <td>0.090908</td>\n",
       "      <td>-1.053785</td>\n",
       "      <td>0.166506</td>\n",
       "      <td>-0.427903</td>\n",
       "      <td>-0.018293</td>\n",
       "      <td>-0.063763</td>\n",
       "      <td>0.00</td>\n",
       "      <td>0</td>\n",
       "    </tr>\n",
       "    <tr>\n",
       "      <th>1</th>\n",
       "      <td>153526</td>\n",
       "      <td>2.112608</td>\n",
       "      <td>0.134436</td>\n",
       "      <td>-2.485294</td>\n",
       "      <td>0.319255</td>\n",
       "      <td>0.901347</td>\n",
       "      <td>-1.135053</td>\n",
       "      <td>0.806315</td>\n",
       "      <td>-0.388994</td>\n",
       "      <td>-0.281632</td>\n",
       "      <td>...</td>\n",
       "      <td>0.302005</td>\n",
       "      <td>0.952619</td>\n",
       "      <td>-0.139831</td>\n",
       "      <td>0.838490</td>\n",
       "      <td>0.634229</td>\n",
       "      <td>0.670702</td>\n",
       "      <td>-0.138295</td>\n",
       "      <td>-0.098389</td>\n",
       "      <td>0.00</td>\n",
       "      <td>0</td>\n",
       "    </tr>\n",
       "    <tr>\n",
       "      <th>2</th>\n",
       "      <td>154027</td>\n",
       "      <td>1.866596</td>\n",
       "      <td>0.292704</td>\n",
       "      <td>0.324495</td>\n",
       "      <td>3.875621</td>\n",
       "      <td>-0.307901</td>\n",
       "      <td>0.313782</td>\n",
       "      <td>-0.534334</td>\n",
       "      <td>0.124539</td>\n",
       "      <td>-0.286059</td>\n",
       "      <td>...</td>\n",
       "      <td>0.177422</td>\n",
       "      <td>0.659361</td>\n",
       "      <td>0.197373</td>\n",
       "      <td>-0.031893</td>\n",
       "      <td>-0.243696</td>\n",
       "      <td>0.031600</td>\n",
       "      <td>0.022030</td>\n",
       "      <td>-0.032014</td>\n",
       "      <td>0.00</td>\n",
       "      <td>0</td>\n",
       "    </tr>\n",
       "    <tr>\n",
       "      <th>3</th>\n",
       "      <td>155796</td>\n",
       "      <td>2.118083</td>\n",
       "      <td>0.033673</td>\n",
       "      <td>-2.502337</td>\n",
       "      <td>0.351595</td>\n",
       "      <td>0.736112</td>\n",
       "      <td>-1.292992</td>\n",
       "      <td>0.756271</td>\n",
       "      <td>-0.364783</td>\n",
       "      <td>-0.055416</td>\n",
       "      <td>...</td>\n",
       "      <td>0.275385</td>\n",
       "      <td>0.863478</td>\n",
       "      <td>-0.198812</td>\n",
       "      <td>-0.354270</td>\n",
       "      <td>0.606328</td>\n",
       "      <td>0.736778</td>\n",
       "      <td>-0.138825</td>\n",
       "      <td>-0.112377</td>\n",
       "      <td>0.00</td>\n",
       "      <td>0</td>\n",
       "    </tr>\n",
       "    <tr>\n",
       "      <th>4</th>\n",
       "      <td>157509</td>\n",
       "      <td>2.016066</td>\n",
       "      <td>-0.481205</td>\n",
       "      <td>-0.413139</td>\n",
       "      <td>0.354444</td>\n",
       "      <td>-0.563848</td>\n",
       "      <td>-0.047718</td>\n",
       "      <td>-0.781380</td>\n",
       "      <td>0.107206</td>\n",
       "      <td>1.355272</td>\n",
       "      <td>...</td>\n",
       "      <td>0.140128</td>\n",
       "      <td>0.589605</td>\n",
       "      <td>0.207411</td>\n",
       "      <td>0.642611</td>\n",
       "      <td>-0.278033</td>\n",
       "      <td>0.548471</td>\n",
       "      <td>-0.023257</td>\n",
       "      <td>-0.044493</td>\n",
       "      <td>0.00</td>\n",
       "      <td>0</td>\n",
       "    </tr>\n",
       "    <tr>\n",
       "      <th>...</th>\n",
       "      <td>...</td>\n",
       "      <td>...</td>\n",
       "      <td>...</td>\n",
       "      <td>...</td>\n",
       "      <td>...</td>\n",
       "      <td>...</td>\n",
       "      <td>...</td>\n",
       "      <td>...</td>\n",
       "      <td>...</td>\n",
       "      <td>...</td>\n",
       "      <td>...</td>\n",
       "      <td>...</td>\n",
       "      <td>...</td>\n",
       "      <td>...</td>\n",
       "      <td>...</td>\n",
       "      <td>...</td>\n",
       "      <td>...</td>\n",
       "      <td>...</td>\n",
       "      <td>...</td>\n",
       "      <td>...</td>\n",
       "      <td>...</td>\n",
       "    </tr>\n",
       "    <tr>\n",
       "      <th>142398</th>\n",
       "      <td>153653</td>\n",
       "      <td>-5.192496</td>\n",
       "      <td>3.164721</td>\n",
       "      <td>-5.047679</td>\n",
       "      <td>2.246597</td>\n",
       "      <td>-4.011781</td>\n",
       "      <td>-0.638908</td>\n",
       "      <td>-2.873463</td>\n",
       "      <td>1.576318</td>\n",
       "      <td>-2.861986</td>\n",
       "      <td>...</td>\n",
       "      <td>1.167244</td>\n",
       "      <td>-1.006617</td>\n",
       "      <td>0.774562</td>\n",
       "      <td>0.063397</td>\n",
       "      <td>-0.390658</td>\n",
       "      <td>1.884741</td>\n",
       "      <td>-1.742558</td>\n",
       "      <td>-0.082216</td>\n",
       "      <td>247.86</td>\n",
       "      <td>1</td>\n",
       "    </tr>\n",
       "    <tr>\n",
       "      <th>142399</th>\n",
       "      <td>41138</td>\n",
       "      <td>-4.595617</td>\n",
       "      <td>5.083690</td>\n",
       "      <td>-7.581015</td>\n",
       "      <td>7.546033</td>\n",
       "      <td>-6.949165</td>\n",
       "      <td>-1.729185</td>\n",
       "      <td>-8.190192</td>\n",
       "      <td>2.714670</td>\n",
       "      <td>-7.083169</td>\n",
       "      <td>...</td>\n",
       "      <td>2.248971</td>\n",
       "      <td>0.566844</td>\n",
       "      <td>0.033744</td>\n",
       "      <td>0.591783</td>\n",
       "      <td>0.334229</td>\n",
       "      <td>0.386801</td>\n",
       "      <td>2.163898</td>\n",
       "      <td>0.983104</td>\n",
       "      <td>340.11</td>\n",
       "      <td>1</td>\n",
       "    </tr>\n",
       "    <tr>\n",
       "      <th>142400</th>\n",
       "      <td>70270</td>\n",
       "      <td>-1.512516</td>\n",
       "      <td>1.133139</td>\n",
       "      <td>-1.601052</td>\n",
       "      <td>2.813401</td>\n",
       "      <td>-2.664503</td>\n",
       "      <td>-0.310371</td>\n",
       "      <td>-1.520895</td>\n",
       "      <td>0.852996</td>\n",
       "      <td>-1.496495</td>\n",
       "      <td>...</td>\n",
       "      <td>0.729828</td>\n",
       "      <td>0.485286</td>\n",
       "      <td>0.567005</td>\n",
       "      <td>0.323586</td>\n",
       "      <td>0.040871</td>\n",
       "      <td>0.825814</td>\n",
       "      <td>0.414482</td>\n",
       "      <td>0.267265</td>\n",
       "      <td>318.11</td>\n",
       "      <td>1</td>\n",
       "    </tr>\n",
       "    <tr>\n",
       "      <th>142401</th>\n",
       "      <td>25095</td>\n",
       "      <td>1.192396</td>\n",
       "      <td>1.338974</td>\n",
       "      <td>-0.678876</td>\n",
       "      <td>3.123672</td>\n",
       "      <td>0.643245</td>\n",
       "      <td>-1.184323</td>\n",
       "      <td>0.397586</td>\n",
       "      <td>-0.253499</td>\n",
       "      <td>0.411135</td>\n",
       "      <td>...</td>\n",
       "      <td>-0.377503</td>\n",
       "      <td>-0.889597</td>\n",
       "      <td>-0.074208</td>\n",
       "      <td>0.035446</td>\n",
       "      <td>0.550578</td>\n",
       "      <td>-0.027171</td>\n",
       "      <td>-0.024921</td>\n",
       "      <td>0.073605</td>\n",
       "      <td>3.12</td>\n",
       "      <td>1</td>\n",
       "    </tr>\n",
       "    <tr>\n",
       "      <th>142402</th>\n",
       "      <td>141565</td>\n",
       "      <td>0.114965</td>\n",
       "      <td>0.766762</td>\n",
       "      <td>-0.494132</td>\n",
       "      <td>0.116772</td>\n",
       "      <td>0.868169</td>\n",
       "      <td>-0.477982</td>\n",
       "      <td>0.438496</td>\n",
       "      <td>0.063073</td>\n",
       "      <td>-0.186207</td>\n",
       "      <td>...</td>\n",
       "      <td>-0.284413</td>\n",
       "      <td>-0.706865</td>\n",
       "      <td>0.131405</td>\n",
       "      <td>0.600742</td>\n",
       "      <td>-0.604264</td>\n",
       "      <td>0.262938</td>\n",
       "      <td>0.099145</td>\n",
       "      <td>0.010810</td>\n",
       "      <td>4.49</td>\n",
       "      <td>1</td>\n",
       "    </tr>\n",
       "  </tbody>\n",
       "</table>\n",
       "<p>142403 rows × 31 columns</p>\n",
       "</div>"
      ],
      "text/plain": [
       "          Time        V1        V2        V3        V4        V5        V6  \\\n",
       "0       152770  2.147860  0.168196 -1.815561  0.074078  0.759384 -0.777666   \n",
       "1       153526  2.112608  0.134436 -2.485294  0.319255  0.901347 -1.135053   \n",
       "2       154027  1.866596  0.292704  0.324495  3.875621 -0.307901  0.313782   \n",
       "3       155796  2.118083  0.033673 -2.502337  0.351595  0.736112 -1.292992   \n",
       "4       157509  2.016066 -0.481205 -0.413139  0.354444 -0.563848 -0.047718   \n",
       "...        ...       ...       ...       ...       ...       ...       ...   \n",
       "142398  153653 -5.192496  3.164721 -5.047679  2.246597 -4.011781 -0.638908   \n",
       "142399   41138 -4.595617  5.083690 -7.581015  7.546033 -6.949165 -1.729185   \n",
       "142400   70270 -1.512516  1.133139 -1.601052  2.813401 -2.664503 -0.310371   \n",
       "142401   25095  1.192396  1.338974 -0.678876  3.123672  0.643245 -1.184323   \n",
       "142402  141565  0.114965  0.766762 -0.494132  0.116772  0.868169 -0.477982   \n",
       "\n",
       "              V7        V8        V9  ...       V21       V22       V23  \\\n",
       "0       0.500592 -0.421479  0.311255  ... -0.186421 -0.364685  0.090908   \n",
       "1       0.806315 -0.388994 -0.281632  ...  0.302005  0.952619 -0.139831   \n",
       "2      -0.534334  0.124539 -0.286059  ...  0.177422  0.659361  0.197373   \n",
       "3       0.756271 -0.364783 -0.055416  ...  0.275385  0.863478 -0.198812   \n",
       "4      -0.781380  0.107206  1.355272  ...  0.140128  0.589605  0.207411   \n",
       "...          ...       ...       ...  ...       ...       ...       ...   \n",
       "142398 -2.873463  1.576318 -2.861986  ...  1.167244 -1.006617  0.774562   \n",
       "142399 -8.190192  2.714670 -7.083169  ...  2.248971  0.566844  0.033744   \n",
       "142400 -1.520895  0.852996 -1.496495  ...  0.729828  0.485286  0.567005   \n",
       "142401  0.397586 -0.253499  0.411135  ... -0.377503 -0.889597 -0.074208   \n",
       "142402  0.438496  0.063073 -0.186207  ... -0.284413 -0.706865  0.131405   \n",
       "\n",
       "             V24       V25       V26       V27       V28  Amount  Class  \n",
       "0      -1.053785  0.166506 -0.427903 -0.018293 -0.063763    0.00      0  \n",
       "1       0.838490  0.634229  0.670702 -0.138295 -0.098389    0.00      0  \n",
       "2      -0.031893 -0.243696  0.031600  0.022030 -0.032014    0.00      0  \n",
       "3      -0.354270  0.606328  0.736778 -0.138825 -0.112377    0.00      0  \n",
       "4       0.642611 -0.278033  0.548471 -0.023257 -0.044493    0.00      0  \n",
       "...          ...       ...       ...       ...       ...     ...    ...  \n",
       "142398  0.063397 -0.390658  1.884741 -1.742558 -0.082216  247.86      1  \n",
       "142399  0.591783  0.334229  0.386801  2.163898  0.983104  340.11      1  \n",
       "142400  0.323586  0.040871  0.825814  0.414482  0.267265  318.11      1  \n",
       "142401  0.035446  0.550578 -0.027171 -0.024921  0.073605    3.12      1  \n",
       "142402  0.600742 -0.604264  0.262938  0.099145  0.010810    4.49      1  \n",
       "\n",
       "[142403 rows x 31 columns]"
      ]
     },
     "execution_count": 79,
     "metadata": {},
     "output_type": "execute_result"
    }
   ],
   "source": [
    "# Viewing sample of table from bigquery\n",
    "\n",
    "query = f\"\"\"\n",
    "    SELECT * FROM `{BQ_PROJECT}.{BQ_DATASET}.{BQ_TABLE}` TABLESAMPLE SYSTEM (1 PERCENT)\n",
    "    #LIMIT 5\n",
    "\"\"\"\n",
    "\n",
    "bq.query(query = query).to_dataframe()"
   ]
  },
  {
   "cell_type": "code",
   "execution_count": 83,
   "id": "8970d213-b8a6-4b37-96e5-00f5d1febfca",
   "metadata": {},
   "outputs": [
    {
     "data": {
      "text/plain": [
       "0    284315\n",
       "1       492\n",
       "Name: CLASS, dtype: Int64"
      ]
     },
     "execution_count": 83,
     "metadata": {},
     "output_type": "execute_result"
    }
   ],
   "source": [
    "# Reviwing data in Bigquery\n",
    "\n",
    "query = f\"\"\"   \n",
    "    SELECT CLASS FROM `{BQ_PROJECT}.{BQ_DATASET}.{BQ_TABLE}`\n",
    "\"\"\"\n",
    "\n",
    "df = bq.query(query = query).to_dataframe()\n",
    "df['CLASS'].value_counts()"
   ]
  },
  {
   "cell_type": "code",
   "execution_count": 84,
   "id": "a44b0f35-d68a-4a83-9371-bb54e8769036",
   "metadata": {},
   "outputs": [
    {
     "data": {
      "text/plain": [
       "0    0.998273\n",
       "1    0.001727\n",
       "Name: CLASS, dtype: Float64"
      ]
     },
     "execution_count": 84,
     "metadata": {},
     "output_type": "execute_result"
    }
   ],
   "source": [
    "df['CLASS'].value_counts(normalize=True)"
   ]
  },
  {
   "cell_type": "code",
   "execution_count": 85,
   "id": "9bfa998d-633b-42d6-bb65-7c5a9d8c9044",
   "metadata": {},
   "outputs": [
    {
     "data": {
      "text/plain": [
       "<google.cloud.bigquery.table._EmptyRowIterator at 0x7f6a842e75e0>"
      ]
     },
     "execution_count": 85,
     "metadata": {},
     "output_type": "execute_result"
    }
   ],
   "source": [
    "# Preparing data for Analysis\n",
    "# create a prepped version of data with test/train splits using SQL DDL\n",
    "\n",
    "query = f\"\"\"\n",
    "    CREATE TABLE IF NOT EXISTS `{BQ_PROJECT}.{BQ_DATASET}.{BQ_TABLE}_prepped` AS\n",
    "    WITH add_id AS (SELECT *, GENERATE_UUID() transaction_id FROM `{BQ_PROJECT}.{BQ_DATASET}.{BQ_TABLE}`)\n",
    "    SELECT *,\n",
    "        CASE\n",
    "            WHEN MOD(ABS(FARM_FINGERPRINT(transaction_id)),10) < 8 THEN \"TRAIN\"\n",
    "            WHEN MOD(ABS(FARM_FINGERPRINT(transaction_id)),10) < 9 THEN \"VALIDATE\"\n",
    "            ELSE \"TEST\"\n",
    "        END AS splits\n",
    "    FROM add_id\n",
    "\"\"\"\n",
    "\n",
    "job = bq.query(query = query)\n",
    "job.result()"
   ]
  },
  {
   "cell_type": "code",
   "execution_count": 86,
   "id": "6459b6c0-737f-4564-9874-b91d594cc6de",
   "metadata": {},
   "outputs": [
    {
     "data": {
      "text/plain": [
       "8.468"
      ]
     },
     "execution_count": 86,
     "metadata": {},
     "output_type": "execute_result"
    }
   ],
   "source": [
    "(job.ended - job.started).total_seconds()"
   ]
  },
  {
   "cell_type": "code",
   "execution_count": 87,
   "id": "f4e0f73a-7655-4014-b0c2-08a1d7cee3b0",
   "metadata": {},
   "outputs": [
    {
     "name": "stdout",
     "output_type": "stream",
     "text": [
      "70.632136 MB\n"
     ]
    }
   ],
   "source": [
    "if job.estimated_bytes_processed:\n",
    "    print(f'{job.estimated_bytes_processed/1000000} MB')"
   ]
  },
  {
   "cell_type": "code",
   "execution_count": 88,
   "id": "ab0d687b-e22f-48c1-8cfa-dcc658a071c3",
   "metadata": {},
   "outputs": [
    {
     "data": {
      "text/html": [
       "<div>\n",
       "<style scoped>\n",
       "    .dataframe tbody tr th:only-of-type {\n",
       "        vertical-align: middle;\n",
       "    }\n",
       "\n",
       "    .dataframe tbody tr th {\n",
       "        vertical-align: top;\n",
       "    }\n",
       "\n",
       "    .dataframe thead th {\n",
       "        text-align: right;\n",
       "    }\n",
       "</style>\n",
       "<table border=\"1\" class=\"dataframe\">\n",
       "  <thead>\n",
       "    <tr style=\"text-align: right;\">\n",
       "      <th></th>\n",
       "      <th>splits</th>\n",
       "      <th>Count</th>\n",
       "      <th>Percentage</th>\n",
       "    </tr>\n",
       "  </thead>\n",
       "  <tbody>\n",
       "    <tr>\n",
       "      <th>0</th>\n",
       "      <td>TRAIN</td>\n",
       "      <td>228399</td>\n",
       "      <td>80.194307</td>\n",
       "    </tr>\n",
       "    <tr>\n",
       "      <th>1</th>\n",
       "      <td>VALIDATE</td>\n",
       "      <td>28334</td>\n",
       "      <td>9.948491</td>\n",
       "    </tr>\n",
       "    <tr>\n",
       "      <th>2</th>\n",
       "      <td>TEST</td>\n",
       "      <td>28074</td>\n",
       "      <td>9.857202</td>\n",
       "    </tr>\n",
       "  </tbody>\n",
       "</table>\n",
       "</div>"
      ],
      "text/plain": [
       "     splits   Count  Percentage\n",
       "0     TRAIN  228399   80.194307\n",
       "1  VALIDATE   28334    9.948491\n",
       "2      TEST   28074    9.857202"
      ]
     },
     "execution_count": 88,
     "metadata": {},
     "output_type": "execute_result"
    }
   ],
   "source": [
    "query = f\"\"\"\n",
    "    SELECT splits, count(*) AS Count, 100*count(*) / (sum(count(*)) OVER()) as Percentage\n",
    "    FROM `{BQ_PROJECT}.{BQ_DATASET}.{BQ_TABLE}_prepped`\n",
    "    GROUP BY splits\n",
    "\"\"\"\n",
    "\n",
    "bq.query(query = query).to_dataframe()"
   ]
  },
  {
   "cell_type": "code",
   "execution_count": 89,
   "id": "c1298063-77a2-404c-947c-98023e80dcaf",
   "metadata": {},
   "outputs": [],
   "source": [
    "query = f\"\"\"\n",
    "    SELECT * FROM `{BQ_PROJECT}.{BQ_DATASET}.{BQ_TABLE}_prepped`\n",
    "    LIMIT 5\n",
    "\"\"\"\n",
    "\n",
    "data = bq.query(query = query).to_dataframe()"
   ]
  },
  {
   "cell_type": "code",
   "execution_count": 90,
   "id": "6352bb9a-d244-4f7d-970f-9c678121f9dd",
   "metadata": {},
   "outputs": [
    {
     "data": {
      "text/html": [
       "<div>\n",
       "<style scoped>\n",
       "    .dataframe tbody tr th:only-of-type {\n",
       "        vertical-align: middle;\n",
       "    }\n",
       "\n",
       "    .dataframe tbody tr th {\n",
       "        vertical-align: top;\n",
       "    }\n",
       "\n",
       "    .dataframe thead th {\n",
       "        text-align: right;\n",
       "    }\n",
       "</style>\n",
       "<table border=\"1\" class=\"dataframe\">\n",
       "  <thead>\n",
       "    <tr style=\"text-align: right;\">\n",
       "      <th></th>\n",
       "      <th>Time</th>\n",
       "      <th>V1</th>\n",
       "      <th>V2</th>\n",
       "      <th>V3</th>\n",
       "      <th>V4</th>\n",
       "      <th>V5</th>\n",
       "      <th>V6</th>\n",
       "      <th>V7</th>\n",
       "      <th>V8</th>\n",
       "      <th>V9</th>\n",
       "      <th>...</th>\n",
       "      <th>V23</th>\n",
       "      <th>V24</th>\n",
       "      <th>V25</th>\n",
       "      <th>V26</th>\n",
       "      <th>V27</th>\n",
       "      <th>V28</th>\n",
       "      <th>Amount</th>\n",
       "      <th>Class</th>\n",
       "      <th>transaction_id</th>\n",
       "      <th>splits</th>\n",
       "    </tr>\n",
       "  </thead>\n",
       "  <tbody>\n",
       "    <tr>\n",
       "      <th>0</th>\n",
       "      <td>33836</td>\n",
       "      <td>1.028170</td>\n",
       "      <td>0.084019</td>\n",
       "      <td>1.507280</td>\n",
       "      <td>2.739710</td>\n",
       "      <td>-0.510364</td>\n",
       "      <td>1.202849</td>\n",
       "      <td>-0.738733</td>\n",
       "      <td>0.448088</td>\n",
       "      <td>0.084509</td>\n",
       "      <td>...</td>\n",
       "      <td>-0.120605</td>\n",
       "      <td>0.093995</td>\n",
       "      <td>0.539835</td>\n",
       "      <td>0.222884</td>\n",
       "      <td>0.066238</td>\n",
       "      <td>0.014932</td>\n",
       "      <td>0.0</td>\n",
       "      <td>0</td>\n",
       "      <td>a3b15a6a-e5d5-4e4b-b6d0-9aa5f0afdca9</td>\n",
       "      <td>TEST</td>\n",
       "    </tr>\n",
       "    <tr>\n",
       "      <th>1</th>\n",
       "      <td>67443</td>\n",
       "      <td>1.263510</td>\n",
       "      <td>0.102121</td>\n",
       "      <td>-0.005493</td>\n",
       "      <td>0.486423</td>\n",
       "      <td>-0.130838</td>\n",
       "      <td>-0.508774</td>\n",
       "      <td>0.090794</td>\n",
       "      <td>-0.066110</td>\n",
       "      <td>0.009589</td>\n",
       "      <td>...</td>\n",
       "      <td>-0.153878</td>\n",
       "      <td>0.058095</td>\n",
       "      <td>0.661726</td>\n",
       "      <td>0.559488</td>\n",
       "      <td>-0.059897</td>\n",
       "      <td>-0.014047</td>\n",
       "      <td>0.0</td>\n",
       "      <td>0</td>\n",
       "      <td>97485a50-de5c-4d5b-8f00-4c5ae4f8878f</td>\n",
       "      <td>TEST</td>\n",
       "    </tr>\n",
       "    <tr>\n",
       "      <th>2</th>\n",
       "      <td>132245</td>\n",
       "      <td>-2.124347</td>\n",
       "      <td>-0.088218</td>\n",
       "      <td>0.790238</td>\n",
       "      <td>3.207753</td>\n",
       "      <td>3.030001</td>\n",
       "      <td>1.358073</td>\n",
       "      <td>0.759941</td>\n",
       "      <td>0.472682</td>\n",
       "      <td>-2.295062</td>\n",
       "      <td>...</td>\n",
       "      <td>0.814931</td>\n",
       "      <td>-1.687168</td>\n",
       "      <td>1.040174</td>\n",
       "      <td>0.445021</td>\n",
       "      <td>0.097742</td>\n",
       "      <td>-0.140581</td>\n",
       "      <td>0.0</td>\n",
       "      <td>0</td>\n",
       "      <td>7f7e440c-bd0e-4c7e-bb5a-fffb690ae6d7</td>\n",
       "      <td>TEST</td>\n",
       "    </tr>\n",
       "    <tr>\n",
       "      <th>3</th>\n",
       "      <td>35881</td>\n",
       "      <td>1.113746</td>\n",
       "      <td>0.157606</td>\n",
       "      <td>1.508637</td>\n",
       "      <td>2.909750</td>\n",
       "      <td>-0.788296</td>\n",
       "      <td>0.397501</td>\n",
       "      <td>-0.581851</td>\n",
       "      <td>0.182217</td>\n",
       "      <td>0.401191</td>\n",
       "      <td>...</td>\n",
       "      <td>-0.133046</td>\n",
       "      <td>0.451944</td>\n",
       "      <td>0.630394</td>\n",
       "      <td>0.211634</td>\n",
       "      <td>0.051267</td>\n",
       "      <td>0.027795</td>\n",
       "      <td>0.0</td>\n",
       "      <td>0</td>\n",
       "      <td>dbc10e46-0738-49f5-a1b7-3bce4039de0f</td>\n",
       "      <td>TEST</td>\n",
       "    </tr>\n",
       "    <tr>\n",
       "      <th>4</th>\n",
       "      <td>160815</td>\n",
       "      <td>2.085267</td>\n",
       "      <td>-0.289692</td>\n",
       "      <td>-3.073191</td>\n",
       "      <td>-0.682208</td>\n",
       "      <td>2.707364</td>\n",
       "      <td>3.125480</td>\n",
       "      <td>-0.155035</td>\n",
       "      <td>0.657321</td>\n",
       "      <td>0.235257</td>\n",
       "      <td>...</td>\n",
       "      <td>0.121871</td>\n",
       "      <td>0.761006</td>\n",
       "      <td>0.215527</td>\n",
       "      <td>0.582324</td>\n",
       "      <td>-0.076993</td>\n",
       "      <td>-0.084356</td>\n",
       "      <td>0.0</td>\n",
       "      <td>0</td>\n",
       "      <td>14fe5439-4271-4924-af28-a90759cb9385</td>\n",
       "      <td>TEST</td>\n",
       "    </tr>\n",
       "  </tbody>\n",
       "</table>\n",
       "<p>5 rows × 33 columns</p>\n",
       "</div>"
      ],
      "text/plain": [
       "     Time        V1        V2        V3        V4        V5        V6  \\\n",
       "0   33836  1.028170  0.084019  1.507280  2.739710 -0.510364  1.202849   \n",
       "1   67443  1.263510  0.102121 -0.005493  0.486423 -0.130838 -0.508774   \n",
       "2  132245 -2.124347 -0.088218  0.790238  3.207753  3.030001  1.358073   \n",
       "3   35881  1.113746  0.157606  1.508637  2.909750 -0.788296  0.397501   \n",
       "4  160815  2.085267 -0.289692 -3.073191 -0.682208  2.707364  3.125480   \n",
       "\n",
       "         V7        V8        V9  ...       V23       V24       V25       V26  \\\n",
       "0 -0.738733  0.448088  0.084509  ... -0.120605  0.093995  0.539835  0.222884   \n",
       "1  0.090794 -0.066110  0.009589  ... -0.153878  0.058095  0.661726  0.559488   \n",
       "2  0.759941  0.472682 -2.295062  ...  0.814931 -1.687168  1.040174  0.445021   \n",
       "3 -0.581851  0.182217  0.401191  ... -0.133046  0.451944  0.630394  0.211634   \n",
       "4 -0.155035  0.657321  0.235257  ...  0.121871  0.761006  0.215527  0.582324   \n",
       "\n",
       "        V27       V28  Amount  Class                        transaction_id  \\\n",
       "0  0.066238  0.014932     0.0      0  a3b15a6a-e5d5-4e4b-b6d0-9aa5f0afdca9   \n",
       "1 -0.059897 -0.014047     0.0      0  97485a50-de5c-4d5b-8f00-4c5ae4f8878f   \n",
       "2  0.097742 -0.140581     0.0      0  7f7e440c-bd0e-4c7e-bb5a-fffb690ae6d7   \n",
       "3  0.051267  0.027795     0.0      0  dbc10e46-0738-49f5-a1b7-3bce4039de0f   \n",
       "4 -0.076993 -0.084356     0.0      0  14fe5439-4271-4924-af28-a90759cb9385   \n",
       "\n",
       "   splits  \n",
       "0    TEST  \n",
       "1    TEST  \n",
       "2    TEST  \n",
       "3    TEST  \n",
       "4    TEST  \n",
       "\n",
       "[5 rows x 33 columns]"
      ]
     },
     "execution_count": 90,
     "metadata": {},
     "output_type": "execute_result"
    }
   ],
   "source": [
    "data.head()"
   ]
  },
  {
   "cell_type": "code",
   "execution_count": null,
   "id": "8870aa01-8c88-4735-b737-671cf298a151",
   "metadata": {},
   "outputs": [],
   "source": []
  }
 ],
 "metadata": {
  "environment": {
   "kernel": "python3",
   "name": "tf2-gpu.2-6.m112",
   "type": "gcloud",
   "uri": "gcr.io/deeplearning-platform-release/tf2-gpu.2-6:m112"
  },
  "kernelspec": {
   "display_name": "Python 3",
   "language": "python",
   "name": "python3"
  },
  "language_info": {
   "codemirror_mode": {
    "name": "ipython",
    "version": 3
   },
   "file_extension": ".py",
   "mimetype": "text/x-python",
   "name": "python",
   "nbconvert_exporter": "python",
   "pygments_lexer": "ipython3",
   "version": "3.9.18"
  }
 },
 "nbformat": 4,
 "nbformat_minor": 5
}
